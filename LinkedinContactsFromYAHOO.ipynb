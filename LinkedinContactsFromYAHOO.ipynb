{
  "nbformat": 4,
  "nbformat_minor": 0,
  "metadata": {
    "colab": {
      "name": "LinkedinContactsFromYAHOO.ipynb",
      "version": "0.3.2",
      "provenance": []
    },
    "kernelspec": {
      "name": "python3",
      "display_name": "Python 3"
    }
  },
  "cells": [
    {
      "metadata": {
        "id": "8yZAUGfSln8K",
        "colab_type": "code",
        "colab": {}
      },
      "cell_type": "code",
      "source": [
        "!pip install --upgrade -q gspread\n",
        "!pip install lxml"
      ],
      "execution_count": 0,
      "outputs": []
    },
    {
      "metadata": {
        "id": "LHikgEf6mAu-",
        "colab_type": "code",
        "colab": {}
      },
      "cell_type": "code",
      "source": [
        "from lxml import html\n",
        "import requests\n",
        "from google.colab import auth\n",
        "import gspread\n",
        "from oauth2client.client import GoogleCredentials\n",
        "import time\n",
        "\n",
        "# SDK autorize\n",
        "auth.authenticate_user()\n",
        "gc = gspread.authorize(GoogleCredentials.get_application_default())\n",
        "\n",
        "# Open sheet and read some data.\n",
        "worksheet = gc.open('LinkedinDATA').sheet1\n",
        "\n",
        "# Get all \"domain.com\" from Sheet1 \n",
        "sites = worksheet.get_all_values()\n",
        "\n",
        "# Open Sheet 2 and add some data.\n",
        "worksheet = gc.open('LinkedinDATA').get_worksheet(1)\n",
        "\n",
        "rowC = 1\n",
        "rowP = 1\n",
        "column = 1\n",
        "\n",
        "for site in sites:\n",
        "  i = 0\n",
        "  n = 0\n",
        "  pageCompany = requests.get('https://search.yahoo.com/search?p=site:linkedin.com/company/ \"' + site[0] + '\"')\n",
        "  pagePersonal = requests.get('https://search.yahoo.com/search?p=site:linkedin.com/in/ \"' + site[0] + '\"')\n",
        "  treeCompany = html.fromstring(pageCompany.content)\n",
        "  treePersonal = html.fromstring(pagePersonal.content)\n",
        "  company = treeCompany.xpath('//li/div/div/h3[@class=\"title\"]/a/@href')\n",
        "  personal = treePersonal.xpath('//li/div/div/h3[@class=\"title\"]/a/@href')\n",
        "  print ('Link for: ',site)\n",
        "  row = max(rowC, rowP) + 1\n",
        "  worksheet.update_cell(row, 1, site[0])\n",
        "  time.sleep(2)\n",
        "  while i < len(company) and i < 3:\n",
        "    print (company[i])\n",
        "    rowC += 1\n",
        "    worksheet.update_cell(rowC, 2, company[i])\n",
        "    i += 1\n",
        "  time.sleep(2)\n",
        "  if len(company) == 0:\n",
        "    worksheet.update_cell(row, 2, 'No data')\n",
        "    row += 1\n",
        "    rowC += 1\n",
        "  while n < len(personal) and n < 3:\n",
        "    print (personal[n])\n",
        "    rowP += 1\n",
        "    worksheet.update_cell(rowP, 3, personal[n])\n",
        "    n += 1\n",
        "  time.sleep(2)\n",
        "  if len(personal) == 0:\n",
        "    worksheet.update_cell(row, 3, 'No data')\n",
        "    row += 1\n",
        "    rowC += 1\n",
        "  rowC = max(rowC,rowP)\n",
        "  rowP = max(rowC,rowP)\n",
        "  time.sleep(5)"
      ],
      "execution_count": 0,
      "outputs": []
    }
  ]
}
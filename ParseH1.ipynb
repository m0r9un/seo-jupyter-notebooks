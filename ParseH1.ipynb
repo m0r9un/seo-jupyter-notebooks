{
  "nbformat": 4,
  "nbformat_minor": 0,
  "metadata": {
    "colab": {
      "name": "ParseH1.ipynb",
      "version": "0.3.2",
      "provenance": [],
      "collapsed_sections": []
    },
    "kernelspec": {
      "name": "python3",
      "display_name": "Python 3"
    }
  },
  "cells": [
    {
      "metadata": {
        "id": "fy_wF2aN4YYc",
        "colab_type": "code",
        "colab": {}
      },
      "cell_type": "code",
      "source": [
        "!pip install --upgrade -q gspread\n",
        "!pip install lxml\n"
      ],
      "execution_count": 0,
      "outputs": []
    },
    {
      "metadata": {
        "id": "cbxIcejC4bs2",
        "colab_type": "code",
        "colab": {
          "base_uri": "https://localhost:8080/",
          "height": 51
        },
        "outputId": "cb6ed68c-54d2-481e-c8e8-08577a731781"
      },
      "cell_type": "code",
      "source": [
        "from lxml import html\n",
        "import requests\n",
        "from google.colab import auth\n",
        "import gspread\n",
        "from oauth2client.client import GoogleCredentials\n",
        "import time\n",
        "\n",
        "# SDK autorize\n",
        "auth.authenticate_user()\n",
        "gc = gspread.authorize(GoogleCredentials.get_application_default())\n",
        "\n",
        "# Open sheet and read some data.\n",
        "worksheet = gc.open('WORK SHEET').sheet1\n",
        "\n",
        "# Get all \"domain.com\" from Sheet1 \n",
        "sites = worksheet.get_all_values()\n",
        "\n",
        "# Open Sheet 2 and add some data.\n",
        "#worksheet = gc.open('WORK SHEET').get_worksheet(1)\n",
        "\n",
        "for site in sites:\n",
        "  pageCompany = requests.get(site[0])\n",
        "  treeCompany = html.fromstring(pageCompany.content)\n",
        "  data = treeCompany.xpath('//h1[@class=\"page-header__text\"]/text()')\n",
        "  print ('H1: ',site)\n",
        "  print (data)\n",
        "  time.sleep(5)"
      ],
      "execution_count": 21,
      "outputs": [
        {
          "output_type": "stream",
          "text": [
            "H1:  ['https://flatfy.ua/продажа-квартир-киев']\n",
            "['Продажа квартир, Киев', '\\xa0']\n"
          ],
          "name": "stdout"
        }
      ]
    }
  ]
}